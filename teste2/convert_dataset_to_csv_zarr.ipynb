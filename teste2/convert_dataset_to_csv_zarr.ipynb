{
 "cells": [
  {
   "cell_type": "code",
   "execution_count": 1,
   "id": "ec625f4b-c4e8-41fa-99c1-750889f9e452",
   "metadata": {},
   "outputs": [],
   "source": [
    "import os\n",
    "import zarr\n",
    "import xarray as xr\n",
    "from xgrads import open_CtlDataset"
   ]
  },
  {
   "cell_type": "code",
   "execution_count": null,
   "id": "7f22e2db-d68f-42bf-bb90-b57e6f61f5de",
   "metadata": {
    "jupyter": {
     "source_hidden": true
    },
    "tags": []
   },
   "outputs": [],
   "source": [
    "gl_rmse = CtlDescriptor(file='gl/RMSEBAMH_20230216002023030300F.ctl')"
   ]
  },
  {
   "cell_type": "code",
   "execution_count": null,
   "id": "eeb962f3-baa3-4ab2-83a0-3636ae9ae410",
   "metadata": {
    "jupyter": {
     "source_hidden": true
    },
    "tags": []
   },
   "outputs": [],
   "source": [
    "gl_rmse"
   ]
  },
  {
   "cell_type": "code",
   "execution_count": null,
   "id": "62a8ab5e-1ddc-4e23-b0cf-bc66fcdbc9db",
   "metadata": {
    "jupyter": {
     "source_hidden": true
    },
    "tags": []
   },
   "outputs": [],
   "source": [
    "%%time\n",
    "\n",
    "dset_gl_rmse = open_CtlDataset('gl/RMSEBAMH_20230216002023030300F.ctl')"
   ]
  },
  {
   "cell_type": "code",
   "execution_count": null,
   "id": "c47cd7ac-a559-49ea-92b1-59170bf97fd9",
   "metadata": {
    "jupyter": {
     "source_hidden": true
    },
    "tags": []
   },
   "outputs": [],
   "source": [
    "dset_lst[0]"
   ]
  },
  {
   "cell_type": "code",
   "execution_count": null,
   "id": "8c1b223b-48fb-4822-ada1-f406ed6ba815",
   "metadata": {
    "jupyter": {
     "source_hidden": true
    },
    "tags": []
   },
   "outputs": [],
   "source": [
    "dset_gl_rmse"
   ]
  },
  {
   "cell_type": "code",
   "execution_count": null,
   "id": "f988a9c5-7774-4721-9a6c-1ac03296f403",
   "metadata": {
    "jupyter": {
     "source_hidden": true
    },
    "tags": []
   },
   "outputs": [],
   "source": [
    "dset_gl_rmse.vtmp925.isel(time=0).plot()"
   ]
  },
  {
   "cell_type": "code",
   "execution_count": null,
   "id": "674a2e8c-8eda-4340-819d-defd153f7012",
   "metadata": {
    "jupyter": {
     "source_hidden": true
    },
    "tags": []
   },
   "outputs": [],
   "source": [
    "%%time\n",
    "\n",
    "df_gl_rmse = dset_gl_rmse.to_dataframe()"
   ]
  },
  {
   "cell_type": "code",
   "execution_count": null,
   "id": "30e78b98-50c9-4fcf-9863-0cc09d7e2066",
   "metadata": {
    "jupyter": {
     "source_hidden": true
    },
    "tags": []
   },
   "outputs": [],
   "source": [
    "df_gl_rmse"
   ]
  },
  {
   "cell_type": "code",
   "execution_count": null,
   "id": "60e0c9e0-7849-428c-92bd-7d7bfb170831",
   "metadata": {
    "tags": []
   },
   "outputs": [],
   "source": [
    "%%time\n",
    "\n",
    "df_gl_rmse.to_csv('gl/RMSEBAMH_20230216002023030300F.csv')"
   ]
  },
  {
   "cell_type": "code",
   "execution_count": 3,
   "id": "e49e8ab6-8860-466c-bc18-a6ecf75fb0d7",
   "metadata": {},
   "outputs": [],
   "source": [
    "Regs = ['gl', 'hn', 'tr', 'hs', 'as']\n",
    "#Exps = ['DTC', 'BAMH', 'BAMH0', 'X666']\n",
    "Exps = ['X666']\n",
    "Stats = ['VIES', 'RMSE', 'MEAN']\n",
    "Tests = ['T1', 'T2', 'T3']"
   ]
  },
  {
   "cell_type": "code",
   "execution_count": null,
   "id": "b78c258a-9aff-4901-8f40-8e3600fc3bbb",
   "metadata": {
    "jupyter": {
     "source_hidden": true
    },
    "tags": []
   },
   "outputs": [],
   "source": [
    "def write_csv(df, filename):\n",
    "    df.to_csv(filename)"
   ]
  },
  {
   "cell_type": "code",
   "execution_count": null,
   "id": "1e8efb8a-b55b-420c-9628-668aa9369781",
   "metadata": {
    "jupyter": {
     "source_hidden": true
    },
    "tags": []
   },
   "outputs": [],
   "source": [
    "%%time\n",
    "\n",
    "# Escrita paralela (ainda precisa juntar os arquivos depois...) - 12min\n",
    "\n",
    "N = 8\n",
    "\n",
    "for reg in Regs:\n",
    "    for exp in Exps:\n",
    "        for stat in Stats:\n",
    "            print(reg, exp, stat)\n",
    "            filein = str(stat) + str(exp) + '_20230216002023030300F.ctl'\n",
    "            fnamein = os.path.join(reg, filein)\n",
    "            dset = open_CtlDataset(fnamein).to_dataframe()\n",
    "            parts = np.array_split(dset, N)\n",
    "            fileout = str(stat) + str(exp) + '_20230216002023030300F.csv'\n",
    "            fnameout = os.path.join(reg, fileout)\n",
    "            #dset.to_csv(fnameout)\n",
    "            Parallel(n_jobs=N)(delayed(write_csv)(part, f'./{reg}/{stat}{exp}_20230216002023030300F-{i}.csv') for i, part in enumerate(parts))"
   ]
  },
  {
   "cell_type": "code",
   "execution_count": null,
   "id": "e8a98771-f218-4265-8195-bc45dc27369a",
   "metadata": {
    "jupyter": {
     "source_hidden": true
    },
    "tags": []
   },
   "outputs": [],
   "source": [
    "%%time\n",
    "\n",
    "# Escrita convencional, formato csv (1 arquivos por vez) - 23min\n",
    "\n",
    "for reg in Regs:\n",
    "    for exp in Exps:\n",
    "        for stat in Stats:\n",
    "            print(reg, exp, stat)\n",
    "            filein = str(stat) + str(exp) + '_20230216002023030300F.ctl'\n",
    "            fnamein = os.path.join(reg, filein)\n",
    "            dset = open_CtlDataset(fnamein).to_dataframe()\n",
    "            fileout = str(stat) + str(exp) + '_20230216002023030300F.csv'\n",
    "            fnameout = os.path.join(reg, fileout)\n",
    "            dset.to_csv(fnameout)"
   ]
  },
  {
   "cell_type": "code",
   "execution_count": 5,
   "id": "83d786bf-f832-411a-9d03-20ff7249b29f",
   "metadata": {},
   "outputs": [
    {
     "name": "stdout",
     "output_type": "stream",
     "text": [
      "gl X666 VIES T1\n",
      "gl X666 VIES T2\n",
      "gl X666 VIES T3\n",
      "gl X666 RMSE T1\n",
      "gl X666 RMSE T2\n",
      "gl X666 RMSE T3\n",
      "gl X666 MEAN T1\n",
      "gl X666 MEAN T2\n",
      "gl X666 MEAN T3\n",
      "hn X666 VIES T1\n",
      "hn X666 VIES T2\n",
      "hn X666 VIES T3\n",
      "hn X666 RMSE T1\n",
      "hn X666 RMSE T2\n",
      "hn X666 RMSE T3\n",
      "hn X666 MEAN T1\n",
      "hn X666 MEAN T2\n",
      "hn X666 MEAN T3\n",
      "tr X666 VIES T1\n",
      "tr X666 VIES T2\n",
      "tr X666 VIES T3\n",
      "tr X666 RMSE T1\n",
      "tr X666 RMSE T2\n",
      "tr X666 RMSE T3\n",
      "tr X666 MEAN T1\n",
      "tr X666 MEAN T2\n",
      "tr X666 MEAN T3\n",
      "hs X666 VIES T1\n",
      "hs X666 VIES T2\n",
      "hs X666 VIES T3\n",
      "hs X666 RMSE T1\n",
      "hs X666 RMSE T2\n",
      "hs X666 RMSE T3\n",
      "hs X666 MEAN T1\n",
      "hs X666 MEAN T2\n",
      "hs X666 MEAN T3\n",
      "as X666 VIES T1\n",
      "as X666 VIES T2\n",
      "as X666 VIES T3\n",
      "as X666 RMSE T1\n",
      "as X666 RMSE T2\n",
      "as X666 RMSE T3\n",
      "as X666 MEAN T1\n",
      "as X666 MEAN T2\n",
      "as X666 MEAN T3\n",
      "CPU times: user 17.4 s, sys: 11.6 s, total: 29 s\n",
      "Wall time: 8min 57s\n"
     ]
    }
   ],
   "source": [
    "%%time\n",
    "\n",
    "# Escrita convencional, formato zarr (1 arquivos por vez) - 9min\n",
    "\n",
    "for reg in Regs:\n",
    "    for exp in Exps:\n",
    "        for stat in Stats:\n",
    "            for test in Tests:\n",
    "                print(reg, exp, stat, test)\n",
    "                filein = str(stat) + str(exp) + '_20230216002023030300F.ctl'\n",
    "                fnamein = os.path.join(test, reg, filein)\n",
    "                fileout = str(stat) + str(exp) + '_20230216002023030300F.zarr'\n",
    "                fnameout = os.path.join(test, reg, fileout)\n",
    "                dset = open_CtlDataset(fnamein).to_zarr(fnameout, mode='w', consolidated=True)\n",
    "                #print(fnameout)"
   ]
  },
  {
   "cell_type": "code",
   "execution_count": null,
   "id": "ab2fffcd-8c77-49a0-b120-786ade8f3deb",
   "metadata": {
    "jupyter": {
     "source_hidden": true
    },
    "tags": []
   },
   "outputs": [],
   "source": [
    "# Teste de abertura do arquivo zarr escrito\n",
    "\n",
    "z = xr.open_zarr('./T2/gl/RMSEBAMH_20230216002023030300F.zarr')"
   ]
  },
  {
   "cell_type": "code",
   "execution_count": null,
   "id": "17ec31a8-05c6-486c-9a72-de61a1e0d387",
   "metadata": {
    "jupyter": {
     "source_hidden": true
    },
    "tags": []
   },
   "outputs": [],
   "source": [
    "z"
   ]
  },
  {
   "cell_type": "code",
   "execution_count": null,
   "id": "14d89023-2654-4914-92b1-b0784adfefc8",
   "metadata": {
    "jupyter": {
     "source_hidden": true
    },
    "tags": []
   },
   "outputs": [],
   "source": [
    "z.umes925.isel(time=-1).plot()"
   ]
  },
  {
   "cell_type": "code",
   "execution_count": null,
   "id": "5cfcdff5-4e6e-43e9-9f0c-b69904b182a1",
   "metadata": {
    "jupyter": {
     "source_hidden": true
    },
    "tags": []
   },
   "outputs": [],
   "source": [
    "import intake\n",
    "from intake.catalog import Catalog"
   ]
  },
  {
   "cell_type": "code",
   "execution_count": null,
   "id": "6ae4263f-529b-42c6-b311-f4d586a9d064",
   "metadata": {
    "jupyter": {
     "source_hidden": true
    },
    "tags": []
   },
   "outputs": [],
   "source": [
    "catalog = Catalog()"
   ]
  },
  {
   "cell_type": "code",
   "execution_count": null,
   "id": "de656c1f-4e01-46a9-a455-30920cb745b0",
   "metadata": {
    "jupyter": {
     "source_hidden": true
    },
    "tags": []
   },
   "outputs": [],
   "source": [
    "def add_zarr_source(catalog, fnamein, fnameout):\n",
    "    catalog.add(\n",
    "        \"dataset_name\",\n",
    "        driver=\"intake-xarray\",\n",
    "        args={\n",
    "            \"urlpath\": fnameout,\n",
    "            \"metadata\": {\"original_data\": fnamein}\n",
    "        },\n",
    "        description=\"Descrição do conjunto de dados Zarr\"\n",
    "    )"
   ]
  },
  {
   "cell_type": "code",
   "execution_count": null,
   "id": "a3664bee-ef71-4d50-aeb3-50d967d43c97",
   "metadata": {
    "jupyter": {
     "source_hidden": true
    },
    "tags": []
   },
   "outputs": [],
   "source": [
    "input_directory = \"/extra2/SCANTEC_XC50/SCANTEC-2.1.0/dataout/periodo/T1/gl\"\n",
    "output_directory = \"/extra2/SCANTEC_XC50/SCANTEC-2.1.0/dataout/periodo/T1/gl/zarr\"\n",
    "list_of_input_files = [os.path.join(input_directory, filename) for filename in os.listdir(input_directory)]\n",
    "list_of_output_files = [os.path.join(output_directory, \"output_\" + filename) for filename in os.listdir(input_directory)]"
   ]
  },
  {
   "cell_type": "code",
   "execution_count": null,
   "id": "bff5f898-f5dd-4cef-906f-40c293970033",
   "metadata": {
    "jupyter": {
     "source_hidden": true
    },
    "tags": []
   },
   "outputs": [],
   "source": [
    "list_of_output_files"
   ]
  },
  {
   "cell_type": "code",
   "execution_count": null,
   "id": "aad8020d-034c-4783-933a-39e82f790305",
   "metadata": {
    "jupyter": {
     "source_hidden": true
    },
    "tags": []
   },
   "outputs": [],
   "source": [
    "for fnamein, fnameout in zip(list_of_input_files, list_of_output_files):\n",
    "    add_zarr_source(catalog, fnamein, fnameout)\n",
    "    \n",
    "catalog.save(\"teste.yml\")   "
   ]
  },
  {
   "cell_type": "code",
   "execution_count": null,
   "id": "bd32121f-8679-4a86-92c5-d8f4ad559b0e",
   "metadata": {},
   "outputs": [],
   "source": []
  }
 ],
 "metadata": {
  "kernelspec": {
   "display_name": "Python 3 (ipykernel)",
   "language": "python",
   "name": "python3"
  },
  "language_info": {
   "codemirror_mode": {
    "name": "ipython",
    "version": 3
   },
   "file_extension": ".py",
   "mimetype": "text/x-python",
   "name": "python",
   "nbconvert_exporter": "python",
   "pygments_lexer": "ipython3",
   "version": "3.7.13"
  }
 },
 "nbformat": 4,
 "nbformat_minor": 5
}
